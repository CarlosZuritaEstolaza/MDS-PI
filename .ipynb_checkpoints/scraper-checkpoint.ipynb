{
 "cells": [
  {
   "cell_type": "markdown",
   "id": "6c83f02f-da3f-4f58-825a-b460d638aee2",
   "metadata": {},
   "source": [
    "# Bibliotecas"
   ]
  },
  {
   "cell_type": "code",
   "execution_count": 1,
   "id": "b1bbd87a",
   "metadata": {},
   "outputs": [],
   "source": [
    "import requests\n",
    "from bs4 import BeautifulSoup\n",
    "import pandas as pd\n",
    "from time import sleep\n",
    "import os\n",
    "from datetime import date, timedelta"
   ]
  },
  {
   "cell_type": "markdown",
   "id": "18b80dd8-a8c3-4208-b39d-fddd7951f6a3",
   "metadata": {},
   "source": [
    "# Clases y Funciones propias"
   ]
  },
  {
   "cell_type": "code",
   "execution_count": 2,
   "id": "1845a9dd-69f5-4031-9cdf-7c11529da207",
   "metadata": {},
   "outputs": [],
   "source": [
    "class Sismo:\n",
    "    pass"
   ]
  },
  {
   "cell_type": "code",
   "execution_count": 3,
   "id": "ada3efff-80a7-43c5-be7c-30e1c0c30068",
   "metadata": {},
   "outputs": [],
   "source": [
    "def get_data(s):\n",
    "    \n",
    "    sismos = []\n",
    "    for i in range(2,len(s)):\n",
    "        sismo = Sismo()\n",
    "        sismo.evento = s[i].find_all('td')[0].text[19:] #Lugar\n",
    "        sismo.fecha_local = s[i].find_all('td')[0].text[:19] #Lugar\n",
    "        sismo.fecha_utc = s[i].find_all('td')[1].text # Fecha\n",
    "        sismo.lat = float(s[i].find_all('td')[2].text.split()[0]) #Latitud\n",
    "        sismo.lng = float(s[i].find_all('td')[2].text.split()[1]) # Longitud\n",
    "        sismo.profundidad = s[i].find_all('td')[3].text # Profundidad\n",
    "        sismo.magnitud = s[i].find_all('td')[4].text #Magnitud \n",
    "        sismos.append(sismo)\n",
    "    return pd.DataFrame.from_records([t.__dict__ for t in sismos ])"
   ]
  },
  {
   "cell_type": "code",
   "execution_count": 4,
   "id": "7a993a23-02fd-4a91-8b49-2e2483b116b2",
   "metadata": {},
   "outputs": [],
   "source": [
    "def get_source(fecha):\n",
    "    fecha_data = pd.to_datetime(fecha)\n",
    "    url = 'https://www.sismologia.cl/sismicidad/catalogo/'+fecha_data.strftime('%Y/%m/%Y%m%d')+'.html'\n",
    "    print(\"Ruta_log: \",url)\n",
    "    ssm = requests.get(url)\n",
    "    s = BeautifulSoup(ssm.text, 'lxml').find_all('tr')\n",
    "    return s"
   ]
  },
  {
   "cell_type": "code",
   "execution_count": 5,
   "id": "9d769fe6-c9b4-46f7-ac0d-644791b1faba",
   "metadata": {},
   "outputs": [],
   "source": [
    "def process_data(df):\n",
    "    df[[\"fecha_local\", \"hora_local\"]] = df[\"fecha_local\"].str.split(' ', expand=True)\n",
    "    df[[\"fecha_utc\", \"hora_utc\"]] = df[\"fecha_utc\"].str.split(' ', expand=True)\n",
    "    df[[\"profundidad\", \"profundidad_unidad\"]] = df[\"profundidad\"].str.split(' ', expand=True)\n",
    "    df[[\"magnitud\", \"magnitud_unidad\"]] = df[\"magnitud\"].str.split(' ', expand=True)\n",
    "    \n",
    "    return df[['evento', 'lat', 'lng', 'fecha_local', 'hora_local', \n",
    "            'fecha_utc', 'hora_utc', 'profundidad', 'profundidad_unidad','magnitud','magnitud_unidad']]"
   ]
  },
  {
   "cell_type": "code",
   "execution_count": 6,
   "id": "4ec49e6f-1156-4478-b706-b420ad99d12e",
   "metadata": {},
   "outputs": [],
   "source": [
    "def get_today_as_string():\n",
    "    return date.today().strftime(\"%m/%d/%Y\")"
   ]
  },
  {
   "cell_type": "code",
   "execution_count": 7,
   "id": "d657bc3b-2d51-4f8e-be73-51c4ef9eee10",
   "metadata": {},
   "outputs": [],
   "source": [
    "def get_yesterday_as_string():\n",
    "    yesterday = date.today() - timedelta(days=1)\n",
    "    return yesterday.strftime(\"%m/%d/%Y\")"
   ]
  },
  {
   "cell_type": "code",
   "execution_count": 8,
   "id": "d2bf0069-3310-4e24-9781-ec2911d886da",
   "metadata": {},
   "outputs": [],
   "source": [
    "def save_file(df, fecha):\n",
    "    fecha_data = pd.to_datetime(fecha)\n",
    "    nombre_archivo = fecha_data.strftime('%Y%m%d') + '_sismos_' + '.csv' \n",
    "    file_dir = os.path.dirname(os.path.abspath(\"__file__\"))\n",
    "    csv_folder = 'data/' + fecha_data.strftime('%Y') + \"/\" + fecha_data.strftime('%m')\n",
    "    try:\n",
    "        os.makedirs(os.path.join(file_dir, csv_folder))\n",
    "    except FileExistsError:\n",
    "        pass\n",
    "    file_path = os.path.join(file_dir, csv_folder, nombre_archivo)\n",
    "    df.to_csv(file_path, index=False)\n",
    "    print('Archivo guardado', nombre_archivo)\n",
    "    print(\"\")"
   ]
  },
  {
   "cell_type": "code",
   "execution_count": 9,
   "id": "0a6f23c5-f2f2-4802-9c52-0156d8c989e9",
   "metadata": {},
   "outputs": [],
   "source": [
    "def process_yesterday():\n",
    "    #Obtenemos la fecha del día anterior\n",
    "    yesterday = get_yesterday_as_string()\n",
    "\n",
    "    #Obtenemos los datos de nuestro sitio\n",
    "    fuente = get_source(yesterday)\n",
    "\n",
    "    #Obtenemos los datos en formato dataframe\n",
    "    df_sismos = get_data(fuente)\n",
    "\n",
    "    #Procesar datos\n",
    "    df_sismos = process_data(df_sismos)\n",
    "\n",
    "    #Guardamos nuestros datos en formato csv\n",
    "    save_file(df_sismos, yesterday)"
   ]
  },
  {
   "cell_type": "code",
   "execution_count": 10,
   "id": "817c6af8-3bad-4177-91ae-1cdb06d8b857",
   "metadata": {},
   "outputs": [],
   "source": [
    "def process_history(date):\n",
    "    #Obtenemos los datos de nuestro sitio\n",
    "    fuente = get_source(date)\n",
    "\n",
    "    #Obtenemos los datos en formato dataframe\n",
    "    df_sismos = get_data(fuente)\n",
    "\n",
    "    #Procesar datos\n",
    "    df_sismos = process_data(df_sismos)\n",
    "\n",
    "    #Guardamos nuestros datos en formato csv\n",
    "    save_file(df_sismos, date)"
   ]
  },
  {
   "cell_type": "code",
   "execution_count": 11,
   "id": "5f1f0063-1469-40b4-9fa3-aaf9e11380f5",
   "metadata": {},
   "outputs": [],
   "source": [
    "def create_process_history(fecha_inicio, sleep_time = 2):\n",
    "    \n",
    "    #la historia se mide hasta 2 días atras, el día anterior es parte del scraping diario\n",
    "    fecha_termino = (date.today() - timedelta(days=2)).strftime(\"%m/%d/%Y\") \n",
    "\n",
    "    rango_fechas = pd.date_range(start=fecha_inicio, end=fecha_termino)\n",
    "\n",
    "    for fecha in rango_fechas:\n",
    "        process_history(fecha.strftime(\"%m/%d/%Y\"))\n",
    "        sleep(sleep_time)"
   ]
  },
  {
   "cell_type": "markdown",
   "id": "180d9661-f625-45a1-9da6-015b080fc723",
   "metadata": {},
   "source": [
    "# Realizando lectura para ayer\n",
    "### Esta funcion se deberia aislar para ejecutar en el job que implementaremos en GitHub, para capturar los datos del día anterior\n",
    "* Opción 1: Generar las llamadas a funciones múltiples funciones"
   ]
  },
  {
   "cell_type": "code",
   "execution_count": 95,
   "id": "b3160897-96bc-4f6f-ac23-6c8bb3e27dd9",
   "metadata": {},
   "outputs": [
    {
     "name": "stdout",
     "output_type": "stream",
     "text": [
      "Ruta_log:  https://www.sismologia.cl/sismicidad/catalogo/2022/08/20220820.html\n",
      "Archivo guardado sismos_20220820.csv\n"
     ]
    }
   ],
   "source": [
    "#Obtenemos la fecha del día anterior\n",
    "yesterday = get_yesterday_as_string()\n",
    "\n",
    "#Obtenemos los datos de nuestro sitio\n",
    "fuente = get_source(yesterday)\n",
    "\n",
    "#Obtenemos los datos en formato dataframe\n",
    "df_sismos = get_data(fuente)\n",
    "\n",
    "#Procesar datos\n",
    "df_sismos = process_data(df_sismos)\n",
    "\n",
    "#Guardamos nuestros datos en formato csv\n",
    "save_file(df_sismos, yesterday)"
   ]
  },
  {
   "cell_type": "markdown",
   "id": "372eb6a7-f963-4ac4-8f8c-b53ccf40e531",
   "metadata": {},
   "source": [
    "* Opcion 2: Llamar a una funcion que encapsula todo el proceso anterior"
   ]
  },
  {
   "cell_type": "code",
   "execution_count": 138,
   "id": "361b370f-76a1-444e-8417-b8ca9058de77",
   "metadata": {},
   "outputs": [
    {
     "name": "stdout",
     "output_type": "stream",
     "text": [
      "Ruta_log:  https://www.sismologia.cl/sismicidad/catalogo/2022/08/20220820.html\n",
      "Archivo guardado 20220820_sismos_.csv\n",
      "\n"
     ]
    }
   ],
   "source": [
    "#Consumimos una la funcion que hace todo el proceso para el día de ayer\n",
    "process_yesterday()"
   ]
  },
  {
   "cell_type": "markdown",
   "id": "fb8c8bd6-64b9-4357-9a8b-519d4a4eb24b",
   "metadata": {},
   "source": [
    "Como se puede ver, el resultado es el mismo."
   ]
  },
  {
   "cell_type": "markdown",
   "id": "7f1391fc-bca1-48d6-9292-5c89fc1ee849",
   "metadata": {
    "tags": []
   },
   "source": [
    "# Procesando la historia\n",
    "### Ahora generaremos un proceso para guardar los datos de la historia que queremos manejar. De esta manera, tendremos un archivo csv por cada día.\n",
    "**Nota:** Se considera historia hasta 2 días atras del día de la ejecución. El día anterior debe obtenerse con el proceso automático diario."
   ]
  },
  {
   "cell_type": "code",
   "execution_count": null,
   "id": "dbb6c529-6d7c-4309-ae33-e2c7ae9f2cbf",
   "metadata": {},
   "outputs": [
    {
     "name": "stdout",
     "output_type": "stream",
     "text": [
      "Ruta_log:  https://www.sismologia.cl/sismicidad/catalogo/2022/01/20220101.html\n",
      "Archivo guardado 20220101_sismos_.csv\n",
      "\n",
      "Ruta_log:  https://www.sismologia.cl/sismicidad/catalogo/2022/01/20220102.html\n",
      "Archivo guardado 20220102_sismos_.csv\n",
      "\n",
      "Ruta_log:  https://www.sismologia.cl/sismicidad/catalogo/2022/01/20220103.html\n",
      "Archivo guardado 20220103_sismos_.csv\n",
      "\n",
      "Ruta_log:  https://www.sismologia.cl/sismicidad/catalogo/2022/01/20220104.html\n",
      "Archivo guardado 20220104_sismos_.csv\n",
      "\n",
      "Ruta_log:  https://www.sismologia.cl/sismicidad/catalogo/2022/01/20220105.html\n",
      "Archivo guardado 20220105_sismos_.csv\n",
      "\n",
      "Ruta_log:  https://www.sismologia.cl/sismicidad/catalogo/2022/01/20220106.html\n",
      "Archivo guardado 20220106_sismos_.csv\n",
      "\n",
      "Ruta_log:  https://www.sismologia.cl/sismicidad/catalogo/2022/01/20220107.html\n",
      "Archivo guardado 20220107_sismos_.csv\n",
      "\n",
      "Ruta_log:  https://www.sismologia.cl/sismicidad/catalogo/2022/01/20220108.html\n",
      "Archivo guardado 20220108_sismos_.csv\n",
      "\n",
      "Ruta_log:  https://www.sismologia.cl/sismicidad/catalogo/2022/01/20220109.html\n",
      "Archivo guardado 20220109_sismos_.csv\n",
      "\n",
      "Ruta_log:  https://www.sismologia.cl/sismicidad/catalogo/2022/01/20220110.html\n",
      "Archivo guardado 20220110_sismos_.csv\n",
      "\n",
      "Ruta_log:  https://www.sismologia.cl/sismicidad/catalogo/2022/01/20220111.html\n",
      "Archivo guardado 20220111_sismos_.csv\n",
      "\n",
      "Ruta_log:  https://www.sismologia.cl/sismicidad/catalogo/2022/01/20220112.html\n",
      "Archivo guardado 20220112_sismos_.csv\n",
      "\n",
      "Ruta_log:  https://www.sismologia.cl/sismicidad/catalogo/2022/01/20220113.html\n",
      "Archivo guardado 20220113_sismos_.csv\n",
      "\n",
      "Ruta_log:  https://www.sismologia.cl/sismicidad/catalogo/2022/01/20220114.html\n",
      "Archivo guardado 20220114_sismos_.csv\n",
      "\n",
      "Ruta_log:  https://www.sismologia.cl/sismicidad/catalogo/2022/01/20220115.html\n",
      "Archivo guardado 20220115_sismos_.csv\n",
      "\n",
      "Ruta_log:  https://www.sismologia.cl/sismicidad/catalogo/2022/01/20220116.html\n",
      "Archivo guardado 20220116_sismos_.csv\n",
      "\n",
      "Ruta_log:  https://www.sismologia.cl/sismicidad/catalogo/2022/01/20220117.html\n",
      "Archivo guardado 20220117_sismos_.csv\n",
      "\n",
      "Ruta_log:  https://www.sismologia.cl/sismicidad/catalogo/2022/01/20220118.html\n",
      "Archivo guardado 20220118_sismos_.csv\n",
      "\n",
      "Ruta_log:  https://www.sismologia.cl/sismicidad/catalogo/2022/01/20220119.html\n",
      "Archivo guardado 20220119_sismos_.csv\n",
      "\n",
      "Ruta_log:  https://www.sismologia.cl/sismicidad/catalogo/2022/01/20220120.html\n",
      "Archivo guardado 20220120_sismos_.csv\n",
      "\n",
      "Ruta_log:  https://www.sismologia.cl/sismicidad/catalogo/2022/01/20220121.html\n",
      "Archivo guardado 20220121_sismos_.csv\n",
      "\n",
      "Ruta_log:  https://www.sismologia.cl/sismicidad/catalogo/2022/01/20220122.html\n",
      "Archivo guardado 20220122_sismos_.csv\n",
      "\n",
      "Ruta_log:  https://www.sismologia.cl/sismicidad/catalogo/2022/01/20220123.html\n",
      "Archivo guardado 20220123_sismos_.csv\n",
      "\n",
      "Ruta_log:  https://www.sismologia.cl/sismicidad/catalogo/2022/01/20220124.html\n",
      "Archivo guardado 20220124_sismos_.csv\n",
      "\n",
      "Ruta_log:  https://www.sismologia.cl/sismicidad/catalogo/2022/01/20220125.html\n",
      "Archivo guardado 20220125_sismos_.csv\n",
      "\n",
      "Ruta_log:  https://www.sismologia.cl/sismicidad/catalogo/2022/01/20220126.html\n",
      "Archivo guardado 20220126_sismos_.csv\n",
      "\n",
      "Ruta_log:  https://www.sismologia.cl/sismicidad/catalogo/2022/01/20220127.html\n",
      "Archivo guardado 20220127_sismos_.csv\n",
      "\n",
      "Ruta_log:  https://www.sismologia.cl/sismicidad/catalogo/2022/01/20220128.html\n",
      "Archivo guardado 20220128_sismos_.csv\n",
      "\n",
      "Ruta_log:  https://www.sismologia.cl/sismicidad/catalogo/2022/01/20220129.html\n",
      "Archivo guardado 20220129_sismos_.csv\n",
      "\n",
      "Ruta_log:  https://www.sismologia.cl/sismicidad/catalogo/2022/01/20220130.html\n",
      "Archivo guardado 20220130_sismos_.csv\n",
      "\n",
      "Ruta_log:  https://www.sismologia.cl/sismicidad/catalogo/2022/01/20220131.html\n",
      "Archivo guardado 20220131_sismos_.csv\n",
      "\n",
      "Ruta_log:  https://www.sismologia.cl/sismicidad/catalogo/2022/02/20220201.html\n",
      "Archivo guardado 20220201_sismos_.csv\n",
      "\n",
      "Ruta_log:  https://www.sismologia.cl/sismicidad/catalogo/2022/02/20220202.html\n",
      "Archivo guardado 20220202_sismos_.csv\n",
      "\n",
      "Ruta_log:  https://www.sismologia.cl/sismicidad/catalogo/2022/02/20220203.html\n",
      "Archivo guardado 20220203_sismos_.csv\n",
      "\n"
     ]
    }
   ],
   "source": [
    "#Se definen las fechas como texto\n",
    "fecha_inicio = \"01/01/2022\" #origen desde agosto 2022\n",
    "create_process_history(fecha_inicio, 2) #Segundo parámetro es el tiempo de sleep para cada día\n"
   ]
  },
  {
   "cell_type": "code",
   "execution_count": null,
   "id": "fecc3f43-63c5-42d5-9f00-379d2af2f6a1",
   "metadata": {},
   "outputs": [],
   "source": []
  }
 ],
 "metadata": {
  "kernelspec": {
   "display_name": "Python 3 (ipykernel)",
   "language": "python",
   "name": "python3"
  },
  "language_info": {
   "codemirror_mode": {
    "name": "ipython",
    "version": 3
   },
   "file_extension": ".py",
   "mimetype": "text/x-python",
   "name": "python",
   "nbconvert_exporter": "python",
   "pygments_lexer": "ipython3",
   "version": "3.7.4"
  },
  "vscode": {
   "interpreter": {
    "hash": "dcd95ec4a7a9c51ed25862ee2d0db24ce306fc4f4b3c233acaeabf505c072ea5"
   }
  }
 },
 "nbformat": 4,
 "nbformat_minor": 5
}
