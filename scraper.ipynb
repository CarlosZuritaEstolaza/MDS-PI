{
 "cells": [
  {
   "cell_type": "code",
   "execution_count": 104,
   "id": "b1bbd87a",
   "metadata": {},
   "outputs": [],
   "source": [
    "import requests\n",
    "from bs4 import BeautifulSoup\n",
    "import pandas as pd\n",
    "from time import sleep\n",
    "import os"
   ]
  },
  {
   "cell_type": "code",
   "execution_count": 60,
   "id": "7b0a7feb",
   "metadata": {},
   "outputs": [],
   "source": [
    "url = 'https://www.sismologia.cl/sismicidad/catalogo/2022/08/20220818.html'"
   ]
  },
  {
   "cell_type": "code",
   "execution_count": 61,
   "id": "d02fc5a6",
   "metadata": {},
   "outputs": [],
   "source": [
    "ssm = requests.get(url)"
   ]
  },
  {
   "cell_type": "code",
   "execution_count": 62,
   "id": "581bd1f5",
   "metadata": {},
   "outputs": [
    {
     "data": {
      "text/plain": [
       "200"
      ]
     },
     "execution_count": 62,
     "metadata": {},
     "output_type": "execute_result"
    }
   ],
   "source": [
    "ssm.status_code"
   ]
  },
  {
   "cell_type": "code",
   "execution_count": 63,
   "id": "42bfb09c",
   "metadata": {},
   "outputs": [],
   "source": [
    "s = BeautifulSoup(ssm.text, 'lxml').find_all('tr')"
   ]
  },
  {
   "cell_type": "code",
   "execution_count": 64,
   "id": "df4edc1a",
   "metadata": {},
   "outputs": [
    {
     "data": {
      "text/plain": [
       "11"
      ]
     },
     "execution_count": 64,
     "metadata": {},
     "output_type": "execute_result"
    }
   ],
   "source": [
    "len(s)"
   ]
  },
  {
   "cell_type": "code",
   "execution_count": 81,
   "id": "e24eba1c",
   "metadata": {},
   "outputs": [],
   "source": [
    "lugar = []\n",
    "fecha = []\n",
    "lat = []\n",
    "lng = []\n",
    "profundidad = []\n",
    "magnitud = []"
   ]
  },
  {
   "cell_type": "code",
   "execution_count": 82,
   "id": "d61dfb65",
   "metadata": {},
   "outputs": [],
   "source": [
    "for i in range(2,len(s)):\n",
    "    \n",
    "    lugar.append(s[i].find_all('td')[0].text[19:])\n",
    "    fecha.append(s[i].find_all('td')[1].text) # Fecha\n",
    "    lat.append(float(s[i].find_all('td')[2].text.split()[0]))\n",
    "    lng.append(float(s[i].find_all('td')[2].text.split()[1]))# Latitud y longitud\n",
    "    profundidad.append(s[i].find_all('td')[3].text) # Profundidad\n",
    "    magnitud.append(s[i].find_all('td')[4].text) #Magnitud \n",
    "    "
   ]
  },
  {
   "cell_type": "code",
   "execution_count": 86,
   "id": "bd274618",
   "metadata": {},
   "outputs": [],
   "source": [
    "sismos_dia = pd.DataFrame(zip(lugar,fecha,lat,lng,profundidad,magnitud),\n",
    "                         columns = ['lugar','fecha','latitud','longitud','profundidad','magnitud'])"
   ]
  },
  {
   "cell_type": "code",
   "execution_count": 87,
   "id": "41ea3f56",
   "metadata": {},
   "outputs": [
    {
     "data": {
      "text/html": [
       "<div>\n",
       "<style scoped>\n",
       "    .dataframe tbody tr th:only-of-type {\n",
       "        vertical-align: middle;\n",
       "    }\n",
       "\n",
       "    .dataframe tbody tr th {\n",
       "        vertical-align: top;\n",
       "    }\n",
       "\n",
       "    .dataframe thead th {\n",
       "        text-align: right;\n",
       "    }\n",
       "</style>\n",
       "<table border=\"1\" class=\"dataframe\">\n",
       "  <thead>\n",
       "    <tr style=\"text-align: right;\">\n",
       "      <th></th>\n",
       "      <th>lugar</th>\n",
       "      <th>fecha</th>\n",
       "      <th>latitud</th>\n",
       "      <th>longitud</th>\n",
       "      <th>profundidad</th>\n",
       "      <th>magnitud</th>\n",
       "    </tr>\n",
       "  </thead>\n",
       "  <tbody>\n",
       "    <tr>\n",
       "      <th>0</th>\n",
       "      <td>22 km al SO de Mina Collahuasi</td>\n",
       "      <td>2022-08-18 22:22:04</td>\n",
       "      <td>-20.911</td>\n",
       "      <td>-68.850</td>\n",
       "      <td>101 km</td>\n",
       "      <td>2.5 Ml</td>\n",
       "    </tr>\n",
       "    <tr>\n",
       "      <th>1</th>\n",
       "      <td>26 km al SE de Mina Collahuasi</td>\n",
       "      <td>2022-08-18 20:17:20</td>\n",
       "      <td>-20.989</td>\n",
       "      <td>-68.480</td>\n",
       "      <td>133 km</td>\n",
       "      <td>3.0 Ml</td>\n",
       "    </tr>\n",
       "    <tr>\n",
       "      <th>2</th>\n",
       "      <td>50 km al S de Pica</td>\n",
       "      <td>2022-08-18 17:19:00</td>\n",
       "      <td>-20.938</td>\n",
       "      <td>-69.262</td>\n",
       "      <td>75 km</td>\n",
       "      <td>4.2 Ml</td>\n",
       "    </tr>\n",
       "    <tr>\n",
       "      <th>3</th>\n",
       "      <td>158 km al O de Tocopilla</td>\n",
       "      <td>2022-08-18 12:16:43</td>\n",
       "      <td>-21.610</td>\n",
       "      <td>-71.646</td>\n",
       "      <td>22 km</td>\n",
       "      <td>2.8 Ml</td>\n",
       "    </tr>\n",
       "    <tr>\n",
       "      <th>4</th>\n",
       "      <td>25 km al E de Pica</td>\n",
       "      <td>2022-08-18 04:54:24</td>\n",
       "      <td>-20.542</td>\n",
       "      <td>-69.097</td>\n",
       "      <td>105 km</td>\n",
       "      <td>2.7 Ml</td>\n",
       "    </tr>\n",
       "    <tr>\n",
       "      <th>5</th>\n",
       "      <td>63 km al S de Putre</td>\n",
       "      <td>2022-08-18 03:28:12</td>\n",
       "      <td>-18.765</td>\n",
       "      <td>-69.602</td>\n",
       "      <td>103 km</td>\n",
       "      <td>2.7 Ml</td>\n",
       "    </tr>\n",
       "    <tr>\n",
       "      <th>6</th>\n",
       "      <td>27 km al SE de Rancagua</td>\n",
       "      <td>2022-08-18 02:10:22</td>\n",
       "      <td>-34.372</td>\n",
       "      <td>-70.573</td>\n",
       "      <td>114 km</td>\n",
       "      <td>5.3 Mww</td>\n",
       "    </tr>\n",
       "    <tr>\n",
       "      <th>7</th>\n",
       "      <td>65 km al E de Socaire</td>\n",
       "      <td>2022-08-18 00:49:53</td>\n",
       "      <td>-23.430</td>\n",
       "      <td>-67.281</td>\n",
       "      <td>255 km</td>\n",
       "      <td>3.0 Ml</td>\n",
       "    </tr>\n",
       "    <tr>\n",
       "      <th>8</th>\n",
       "      <td>86 km al S de Socaire</td>\n",
       "      <td>2022-08-18 00:12:56</td>\n",
       "      <td>-24.321</td>\n",
       "      <td>-68.160</td>\n",
       "      <td>258 km</td>\n",
       "      <td>2.9 Ml</td>\n",
       "    </tr>\n",
       "  </tbody>\n",
       "</table>\n",
       "</div>"
      ],
      "text/plain": [
       "                            lugar                fecha  latitud  longitud  \\\n",
       "0  22 km al SO de Mina Collahuasi  2022-08-18 22:22:04  -20.911   -68.850   \n",
       "1  26 km al SE de Mina Collahuasi  2022-08-18 20:17:20  -20.989   -68.480   \n",
       "2              50 km al S de Pica  2022-08-18 17:19:00  -20.938   -69.262   \n",
       "3        158 km al O de Tocopilla  2022-08-18 12:16:43  -21.610   -71.646   \n",
       "4              25 km al E de Pica  2022-08-18 04:54:24  -20.542   -69.097   \n",
       "5             63 km al S de Putre  2022-08-18 03:28:12  -18.765   -69.602   \n",
       "6         27 km al SE de Rancagua  2022-08-18 02:10:22  -34.372   -70.573   \n",
       "7           65 km al E de Socaire  2022-08-18 00:49:53  -23.430   -67.281   \n",
       "8           86 km al S de Socaire  2022-08-18 00:12:56  -24.321   -68.160   \n",
       "\n",
       "  profundidad magnitud  \n",
       "0      101 km   2.5 Ml  \n",
       "1      133 km   3.0 Ml  \n",
       "2       75 km   4.2 Ml  \n",
       "3       22 km   2.8 Ml  \n",
       "4      105 km   2.7 Ml  \n",
       "5      103 km   2.7 Ml  \n",
       "6      114 km  5.3 Mww  \n",
       "7      255 km   3.0 Ml  \n",
       "8      258 km   2.9 Ml  "
      ]
     },
     "execution_count": 87,
     "metadata": {},
     "output_type": "execute_result"
    }
   ],
   "source": [
    "\n",
    "sismos_dia"
   ]
  },
  {
   "cell_type": "code",
   "execution_count": 12,
   "id": "45d44a8e",
   "metadata": {},
   "outputs": [],
   "source": [
    "sismos_dia.to_csv('sismos_dia.csv')"
   ]
  },
  {
   "cell_type": "code",
   "execution_count": null,
   "id": "2081a7a4",
   "metadata": {},
   "outputs": [
    {
     "ename": "IndexError",
     "evalue": "list index out of range",
     "output_type": "error",
     "traceback": [
      "\u001b[1;31m---------------------------------------------------------------------------\u001b[0m",
      "\u001b[1;31mIndexError\u001b[0m                                Traceback (most recent call last)",
      "\u001b[1;32m~\\AppData\\Local\\Temp\\ipykernel_4592\\4110219223.py\u001b[0m in \u001b[0;36m<module>\u001b[1;34m\u001b[0m\n\u001b[0;32m      6\u001b[0m \u001b[0ms\u001b[0m\u001b[1;33m[\u001b[0m\u001b[1;36m2\u001b[0m\u001b[1;33m]\u001b[0m\u001b[1;33m.\u001b[0m\u001b[0mfind_all\u001b[0m\u001b[1;33m(\u001b[0m\u001b[1;34m'td'\u001b[0m\u001b[1;33m)\u001b[0m\u001b[1;33m[\u001b[0m\u001b[1;36m3\u001b[0m\u001b[1;33m]\u001b[0m\u001b[1;33m.\u001b[0m\u001b[0mtext\u001b[0m \u001b[1;31m# Profundidad\u001b[0m\u001b[1;33m\u001b[0m\u001b[1;33m\u001b[0m\u001b[0m\n\u001b[0;32m      7\u001b[0m \u001b[0ms\u001b[0m\u001b[1;33m[\u001b[0m\u001b[1;36m2\u001b[0m\u001b[1;33m]\u001b[0m\u001b[1;33m.\u001b[0m\u001b[0mfind_all\u001b[0m\u001b[1;33m(\u001b[0m\u001b[1;34m'td'\u001b[0m\u001b[1;33m)\u001b[0m\u001b[1;33m[\u001b[0m\u001b[1;36m4\u001b[0m\u001b[1;33m]\u001b[0m\u001b[1;33m.\u001b[0m\u001b[0mtext\u001b[0m \u001b[1;31m#Magnitud\u001b[0m\u001b[1;33m\u001b[0m\u001b[1;33m\u001b[0m\u001b[0m\n\u001b[1;32m----> 8\u001b[1;33m \u001b[0ms\u001b[0m\u001b[1;33m[\u001b[0m\u001b[1;36m2\u001b[0m\u001b[1;33m]\u001b[0m\u001b[1;33m.\u001b[0m\u001b[0mfind_all\u001b[0m\u001b[1;33m(\u001b[0m\u001b[1;34m'td'\u001b[0m\u001b[1;33m)\u001b[0m\u001b[1;33m[\u001b[0m\u001b[1;36m5\u001b[0m\u001b[1;33m]\u001b[0m\u001b[1;33m.\u001b[0m\u001b[0mtext\u001b[0m\u001b[1;33m\u001b[0m\u001b[1;33m\u001b[0m\u001b[0m\n\u001b[0m",
      "\u001b[1;31mIndexError\u001b[0m: list index out of range"
     ]
    }
   ],
   "source": [
    "s[2].td.text # Fecha Direccion\n",
    "\n",
    "s[2].find_all('td')[0].text # Fecha direccion\n",
    "s[2].find_all('td')[1].text # Fecha\n",
    "s[2].find_all('td')[2].text # Latitud y longitud\n",
    "s[2].find_all('td')[3].text # Profundidad\n",
    "s[2].find_all('td')[4].text #Magnitud \n"
   ]
  },
  {
   "cell_type": "markdown",
   "id": "d95f965e",
   "metadata": {},
   "source": [
    "### Generalizacion de URL en multiples fecha"
   ]
  },
  {
   "cell_type": "code",
   "execution_count": 40,
   "id": "4b70cfc5",
   "metadata": {},
   "outputs": [],
   "source": [
    "fechas = pd.date_range(start='1/1/2022', end='01/14/2022')"
   ]
  },
  {
   "cell_type": "code",
   "execution_count": 41,
   "id": "8bc91dd5",
   "metadata": {},
   "outputs": [
    {
     "name": "stdout",
     "output_type": "stream",
     "text": [
      "2022/01/20220101\n",
      "2022/01/20220102\n",
      "2022/01/20220103\n",
      "2022/01/20220104\n",
      "2022/01/20220105\n",
      "2022/01/20220106\n",
      "2022/01/20220107\n",
      "2022/01/20220108\n",
      "2022/01/20220109\n",
      "2022/01/20220110\n",
      "2022/01/20220111\n",
      "2022/01/20220112\n",
      "2022/01/20220113\n",
      "2022/01/20220114\n"
     ]
    }
   ],
   "source": [
    "#Estructura URL\n",
    "# https://www.sismologia.cl/sismicidad/catalogo/AAAA/MM/AAAAMMDD.html\n",
    "for i in fechas:\n",
    "    print(i.strftime('%Y/%m/%Y%m%d'))\n"
   ]
  },
  {
   "cell_type": "markdown",
   "id": "c6696a4e",
   "metadata": {},
   "source": [
    "## Generacion funcion scraper por dia\n",
    "\n"
   ]
  },
  {
   "cell_type": "code",
   "execution_count": 113,
   "id": "5213ecb5",
   "metadata": {},
   "outputs": [],
   "source": [
    "def get_sismos(fecha):\n",
    "    fecha_data = pd.to_datetime(fecha)\n",
    "    url = 'https://www.sismologia.cl/sismicidad/catalogo/'+fecha_data.strftime('%Y/%m/%Y%m%d')+'.html'\n",
    "    print(url)\n",
    "    ssm = requests.get(url)\n",
    "    s = BeautifulSoup(ssm.text, 'lxml').find_all('tr')\n",
    "    \n",
    "    lugar = []\n",
    "    fecha = []\n",
    "    lat = []\n",
    "    lng = []\n",
    "    profundidad = []\n",
    "    magnitud = []\n",
    "    \n",
    "    for i in range(2,len(s)):\n",
    "    \n",
    "        lugar.append(s[i].find_all('td')[0].text[19:])\n",
    "        fecha.append(s[i].find_all('td')[1].text) # Fecha\n",
    "        lat.append(float(s[i].find_all('td')[2].text.split()[0]))\n",
    "        lng.append(float(s[i].find_all('td')[2].text.split()[1]))\n",
    "        profundidad.append(s[i].find_all('td')[3].text) \n",
    "        magnitud.append(s[i].find_all('td')[4].text)  \n",
    "    \n",
    "    sismos_dia = pd.DataFrame(zip(lugar,fecha,lat,lng,profundidad,magnitud),\n",
    "                              columns = ['lugar','fecha','latitud','longitud','profundidad','magnitud'])\n",
    "    \n",
    "    nombre_archivo = 'sismos_'+fecha_data.strftime('%Y%m%d')+'.csv'\n",
    "\n",
    "    \n",
    "    # Esta seccion guarda el archivo CSV en la carpeta \"data\"\n",
    "    file_dir = os.path.dirname(os.path.abspath(\"__file__\"))\n",
    "    csv_folder = 'data'\n",
    "    file_path = os.path.join(file_dir, csv_folder, nombre_archivo)\n",
    "    sismos_dia.to_csv(file_path, index=False)\n",
    "    print('Archivo guardado', nombre_archivo)\n",
    "    \n",
    "    "
   ]
  },
  {
   "cell_type": "code",
   "execution_count": 112,
   "id": "5f76264a",
   "metadata": {},
   "outputs": [
    {
     "name": "stdout",
     "output_type": "stream",
     "text": [
      "https://www.sismologia.cl/sismicidad/catalogo/2022/08/20220820.html\n",
      "Archivo guardado sismos_20220820.csv\n"
     ]
    }
   ],
   "source": [
    "get_sismos('08/20/2022')"
   ]
  },
  {
   "cell_type": "code",
   "execution_count": null,
   "id": "87d4b21c",
   "metadata": {},
   "outputs": [
    {
     "name": "stdout",
     "output_type": "stream",
     "text": [
      "https://www.sismologia.cl/sismicidad/catalogo/2022/05/20220501.html\n",
      "Archivo guardado sismos_20220501.csv\n",
      "https://www.sismologia.cl/sismicidad/catalogo/2022/05/20220502.html\n",
      "Archivo guardado sismos_20220502.csv\n",
      "https://www.sismologia.cl/sismicidad/catalogo/2022/05/20220503.html\n",
      "Archivo guardado sismos_20220503.csv\n",
      "https://www.sismologia.cl/sismicidad/catalogo/2022/05/20220504.html\n",
      "Archivo guardado sismos_20220504.csv\n",
      "https://www.sismologia.cl/sismicidad/catalogo/2022/05/20220505.html\n",
      "Archivo guardado sismos_20220505.csv\n",
      "https://www.sismologia.cl/sismicidad/catalogo/2022/05/20220506.html\n",
      "Archivo guardado sismos_20220506.csv\n"
     ]
    }
   ],
   "source": [
    "target = pd.date_range(start='05/01/2022', end='05/07/2022')\n",
    "\n",
    "for i in target:\n",
    "    get_sismos(i)\n",
    "    sleep(1)"
   ]
  },
  {
   "cell_type": "markdown",
   "id": "594341b0",
   "metadata": {},
   "source": [
    "## Utilizando la funcion en un rango de fechas"
   ]
  }
 ],
 "metadata": {
  "kernelspec": {
   "display_name": "Python 3 (ipykernel)",
   "language": "python",
   "name": "python3"
  },
  "language_info": {
   "codemirror_mode": {
    "name": "ipython",
    "version": 3
   },
   "file_extension": ".py",
   "mimetype": "text/x-python",
   "name": "python",
   "nbconvert_exporter": "python",
   "pygments_lexer": "ipython3",
   "version": "3.7.4"
  },
  "vscode": {
   "interpreter": {
    "hash": "dcd95ec4a7a9c51ed25862ee2d0db24ce306fc4f4b3c233acaeabf505c072ea5"
   }
  }
 },
 "nbformat": 4,
 "nbformat_minor": 5
}
