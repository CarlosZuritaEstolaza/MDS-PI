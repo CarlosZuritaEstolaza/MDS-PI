{
 "cells": [
  {
   "cell_type": "markdown",
   "id": "6c83f02f-da3f-4f58-825a-b460d638aee2",
   "metadata": {},
   "source": [
    "# Bibliotecas"
   ]
  },
  {
   "cell_type": "code",
   "execution_count": 52,
   "id": "b1bbd87a",
   "metadata": {},
   "outputs": [],
   "source": [
    "import requests\n",
    "from bs4 import BeautifulSoup\n",
    "import pandas as pd\n",
    "from time import sleep\n",
    "import os\n",
    "from datetime import date, timedelta"
   ]
  },
  {
   "cell_type": "markdown",
   "id": "18b80dd8-a8c3-4208-b39d-fddd7951f6a3",
   "metadata": {},
   "source": [
    "# Clases y Funciones propias"
   ]
  },
  {
   "cell_type": "code",
   "execution_count": 32,
   "id": "1845a9dd-69f5-4031-9cdf-7c11529da207",
   "metadata": {},
   "outputs": [],
   "source": [
    "class Sismo:\n",
    "    pass"
   ]
  },
  {
   "cell_type": "code",
   "execution_count": 125,
   "id": "ada3efff-80a7-43c5-be7c-30e1c0c30068",
   "metadata": {},
   "outputs": [],
   "source": [
    "def get_data(s):\n",
    "    \n",
    "    sismos = []\n",
    "    for i in range(2,len(s)):\n",
    "        sismo = Sismo()\n",
    "        sismo.evento = s[i].find_all('td')[0].text[19:] #Lugar\n",
    "        sismo.fecha_local = s[i].find_all('td')[0].text[:19] #Lugar\n",
    "        sismo.fecha_utc = s[i].find_all('td')[1].text # Fecha\n",
    "        sismo.lat = float(s[i].find_all('td')[2].text.split()[0]) #Latitud\n",
    "        sismo.lng = float(s[i].find_all('td')[2].text.split()[1]) # Longitud\n",
    "        sismo.profundidad = s[i].find_all('td')[3].text # Profundidad\n",
    "        sismo.magnitud = s[i].find_all('td')[4].text #Magnitud \n",
    "        sismos.append(sismo)\n",
    "    return pd.DataFrame.from_records([t.__dict__ for t in sismos ])"
   ]
  },
  {
   "cell_type": "code",
   "execution_count": 126,
   "id": "7a993a23-02fd-4a91-8b49-2e2483b116b2",
   "metadata": {},
   "outputs": [],
   "source": [
    "def get_source(fecha):\n",
    "    fecha_data = pd.to_datetime(fecha)\n",
    "    url = 'https://www.sismologia.cl/sismicidad/catalogo/'+fecha_data.strftime('%Y/%m/%Y%m%d')+'.html'\n",
    "    print(\"Ruta_log: \",url)\n",
    "    ssm = requests.get(url)\n",
    "    s = BeautifulSoup(ssm.text, 'lxml').find_all('tr')\n",
    "    return s"
   ]
  },
  {
   "cell_type": "code",
   "execution_count": 127,
   "id": "9d769fe6-c9b4-46f7-ac0d-644791b1faba",
   "metadata": {},
   "outputs": [],
   "source": [
    "def process_data(df):\n",
    "    df[[\"fecha_local\", \"hora_local\"]] = df[\"fecha_local\"].str.split(' ', expand=True)\n",
    "    df[[\"fecha_utc\", \"hora_utc\"]] = df[\"fecha_utc\"].str.split(' ', expand=True)\n",
    "    df[[\"profundidad\", \"profundidad_unidad\"]] = df[\"profundidad\"].str.split(' ', expand=True)\n",
    "    df[[\"magnitud\", \"magnitud_unidad\"]] = df[\"magnitud\"].str.split(' ', expand=True)\n",
    "    \n",
    "    return df[['evento', 'lat', 'lng', 'fecha_local', 'hora_local', \n",
    "            'fecha_utc', 'hora_utc', 'profundidad', 'profundidad_unidad','magnitud','magnitud_unidad']]"
   ]
  },
  {
   "cell_type": "code",
   "execution_count": 128,
   "id": "4ec49e6f-1156-4478-b706-b420ad99d12e",
   "metadata": {},
   "outputs": [],
   "source": [
    "def get_today_as_string():\n",
    "    return date.today().strftime(\"%m/%d/%Y\")"
   ]
  },
  {
   "cell_type": "code",
   "execution_count": 129,
   "id": "d657bc3b-2d51-4f8e-be73-51c4ef9eee10",
   "metadata": {},
   "outputs": [],
   "source": [
    "def get_yesterday_as_string():\n",
    "    yesterday = date.today() - timedelta(days=1)\n",
    "    return yesterday.strftime(\"%m/%d/%Y\")"
   ]
  },
  {
   "cell_type": "code",
   "execution_count": 135,
   "id": "d2bf0069-3310-4e24-9781-ec2911d886da",
   "metadata": {},
   "outputs": [],
   "source": [
    "def save_file(df, fecha):\n",
    "    fecha_data = pd.to_datetime(fecha)\n",
    "    nombre_archivo = fecha_data.strftime('%Y%m%d') + '_sismos_' + '.csv' \n",
    "    file_dir = os.path.dirname(os.path.abspath(\"__file__\"))\n",
    "    csv_folder = 'data/' + fecha_data.strftime('%Y') + \"/\" + fecha_data.strftime('%m')\n",
    "    try:\n",
    "        os.makedirs(os.path.join(file_dir, csv_folder))\n",
    "    except FileExistsError:\n",
    "        pass\n",
    "    file_path = os.path.join(file_dir, csv_folder, nombre_archivo)\n",
    "    df.to_csv(file_path, index=False)\n",
    "    print('Archivo guardado', nombre_archivo)\n",
    "    print(\"\")"
   ]
  },
  {
   "cell_type": "code",
   "execution_count": 131,
   "id": "0a6f23c5-f2f2-4802-9c52-0156d8c989e9",
   "metadata": {},
   "outputs": [],
   "source": [
    "def process_yesterday():\n",
    "    #Obtenemos la fecha del día anterior\n",
    "    yesterday = get_yesterday_as_string()\n",
    "\n",
    "    #Obtenemos los datos de nuestro sitio\n",
    "    fuente = get_source(yesterday)\n",
    "\n",
    "    #Obtenemos los datos en formato dataframe\n",
    "    df_sismos = get_data(fuente)\n",
    "\n",
    "    #Procesar datos\n",
    "    df_sismos = process_data(df_sismos)\n",
    "\n",
    "    #Guardamos nuestros datos en formato csv\n",
    "    save_file(df_sismos, yesterday)"
   ]
  },
  {
   "cell_type": "code",
   "execution_count": 132,
   "id": "817c6af8-3bad-4177-91ae-1cdb06d8b857",
   "metadata": {},
   "outputs": [],
   "source": [
    "def process_history(date):\n",
    "    #Obtenemos los datos de nuestro sitio\n",
    "    fuente = get_source(date)\n",
    "\n",
    "    #Obtenemos los datos en formato dataframe\n",
    "    df_sismos = get_data(fuente)\n",
    "\n",
    "    #Procesar datos\n",
    "    df_sismos = process_data(df_sismos)\n",
    "\n",
    "    #Guardamos nuestros datos en formato csv\n",
    "    save_file(df_sismos, date)"
   ]
  },
  {
   "cell_type": "code",
   "execution_count": 133,
   "id": "5f1f0063-1469-40b4-9fa3-aaf9e11380f5",
   "metadata": {},
   "outputs": [],
   "source": [
    "def create_process_history(fecha_inicio, sleep_time = 2):\n",
    "    \n",
    "    #la historia se mide hasta 2 días atras, el día anterior es parte del scraping diario\n",
    "    fecha_termino = (date.today() - timedelta(days=2)).strftime(\"%m/%d/%Y\") \n",
    "\n",
    "    rango_fechas = pd.date_range(start=fecha_inicio, end=fecha_termino)\n",
    "\n",
    "    for fecha in rango_fechas:\n",
    "        process_history(fecha.strftime(\"%m/%d/%Y\"))\n",
    "        sleep(sleep_time)"
   ]
  },
  {
   "cell_type": "markdown",
   "id": "180d9661-f625-45a1-9da6-015b080fc723",
   "metadata": {},
   "source": [
    "# Realizando lectura para ayer\n",
    "### Esta funcion se deberia aislar para ejecutar en el job que implementaremos en GitHub, para capturar los datos del día anterior\n",
    "* Opción 1: Generar las llamadas a funciones múltiples funciones"
   ]
  },
  {
   "cell_type": "code",
   "execution_count": 95,
   "id": "b3160897-96bc-4f6f-ac23-6c8bb3e27dd9",
   "metadata": {},
   "outputs": [
    {
     "name": "stdout",
     "output_type": "stream",
     "text": [
      "Ruta_log:  https://www.sismologia.cl/sismicidad/catalogo/2022/08/20220820.html\n",
      "Archivo guardado sismos_20220820.csv\n"
     ]
    }
   ],
   "source": [
    "#Obtenemos la fecha del día anterior\n",
    "yesterday = get_yesterday_as_string()\n",
    "\n",
    "#Obtenemos los datos de nuestro sitio\n",
    "fuente = get_source(yesterday)\n",
    "\n",
    "#Obtenemos los datos en formato dataframe\n",
    "df_sismos = get_data(fuente)\n",
    "\n",
    "#Procesar datos\n",
    "df_sismos = process_data(df_sismos)\n",
    "\n",
    "#Guardamos nuestros datos en formato csv\n",
    "save_file(df_sismos, yesterday)"
   ]
  },
  {
   "cell_type": "markdown",
   "id": "372eb6a7-f963-4ac4-8f8c-b53ccf40e531",
   "metadata": {},
   "source": [
    "* Opcion 2: Llamar a una funcion que encapsula todo el proceso anterior"
   ]
  },
  {
   "cell_type": "code",
   "execution_count": 138,
   "id": "361b370f-76a1-444e-8417-b8ca9058de77",
   "metadata": {},
   "outputs": [
    {
     "name": "stdout",
     "output_type": "stream",
     "text": [
      "Ruta_log:  https://www.sismologia.cl/sismicidad/catalogo/2022/08/20220820.html\n",
      "Archivo guardado 20220820_sismos_.csv\n",
      "\n"
     ]
    }
   ],
   "source": [
    "#Consumimos una la funcion que hace todo el proceso para el día de ayer\n",
    "process_yesterday()"
   ]
  },
  {
   "cell_type": "markdown",
   "id": "fb8c8bd6-64b9-4357-9a8b-519d4a4eb24b",
   "metadata": {},
   "source": [
    "Como se puede ver, el resultado es el mismo."
   ]
  },
  {
   "cell_type": "markdown",
   "id": "7f1391fc-bca1-48d6-9292-5c89fc1ee849",
   "metadata": {
    "tags": []
   },
   "source": [
    "# Procesando la historia\n",
    "### Ahora generaremos un proceso para guardar los datos de la historia que queremos manejar. De esta manera, tendremos un archivo csv por cada día.\n",
    "**Nota:** Se considera historia hasta 2 días atras del día de la ejecución. El día anterior debe obtenerse con el proceso automático diario."
   ]
  },
  {
   "cell_type": "code",
   "execution_count": 137,
   "id": "dbb6c529-6d7c-4309-ae33-e2c7ae9f2cbf",
   "metadata": {},
   "outputs": [
    {
     "name": "stdout",
     "output_type": "stream",
     "text": [
      "Ruta_log:  https://www.sismologia.cl/sismicidad/catalogo/2022/08/20220801.html\n",
      "Archivo guardado 20220801_sismos_.csv\n",
      "\n",
      "Ruta_log:  https://www.sismologia.cl/sismicidad/catalogo/2022/08/20220802.html\n",
      "Archivo guardado 20220802_sismos_.csv\n",
      "\n",
      "Ruta_log:  https://www.sismologia.cl/sismicidad/catalogo/2022/08/20220803.html\n",
      "Archivo guardado 20220803_sismos_.csv\n",
      "\n",
      "Ruta_log:  https://www.sismologia.cl/sismicidad/catalogo/2022/08/20220804.html\n",
      "Archivo guardado 20220804_sismos_.csv\n",
      "\n",
      "Ruta_log:  https://www.sismologia.cl/sismicidad/catalogo/2022/08/20220805.html\n",
      "Archivo guardado 20220805_sismos_.csv\n",
      "\n",
      "Ruta_log:  https://www.sismologia.cl/sismicidad/catalogo/2022/08/20220806.html\n",
      "Archivo guardado 20220806_sismos_.csv\n",
      "\n",
      "Ruta_log:  https://www.sismologia.cl/sismicidad/catalogo/2022/08/20220807.html\n",
      "Archivo guardado 20220807_sismos_.csv\n",
      "\n",
      "Ruta_log:  https://www.sismologia.cl/sismicidad/catalogo/2022/08/20220808.html\n",
      "Archivo guardado 20220808_sismos_.csv\n",
      "\n",
      "Ruta_log:  https://www.sismologia.cl/sismicidad/catalogo/2022/08/20220809.html\n",
      "Archivo guardado 20220809_sismos_.csv\n",
      "\n",
      "Ruta_log:  https://www.sismologia.cl/sismicidad/catalogo/2022/08/20220810.html\n",
      "Archivo guardado 20220810_sismos_.csv\n",
      "\n",
      "Ruta_log:  https://www.sismologia.cl/sismicidad/catalogo/2022/08/20220811.html\n",
      "Archivo guardado 20220811_sismos_.csv\n",
      "\n",
      "Ruta_log:  https://www.sismologia.cl/sismicidad/catalogo/2022/08/20220812.html\n",
      "Archivo guardado 20220812_sismos_.csv\n",
      "\n",
      "Ruta_log:  https://www.sismologia.cl/sismicidad/catalogo/2022/08/20220813.html\n",
      "Archivo guardado 20220813_sismos_.csv\n",
      "\n",
      "Ruta_log:  https://www.sismologia.cl/sismicidad/catalogo/2022/08/20220814.html\n",
      "Archivo guardado 20220814_sismos_.csv\n",
      "\n",
      "Ruta_log:  https://www.sismologia.cl/sismicidad/catalogo/2022/08/20220815.html\n",
      "Archivo guardado 20220815_sismos_.csv\n",
      "\n",
      "Ruta_log:  https://www.sismologia.cl/sismicidad/catalogo/2022/08/20220816.html\n",
      "Archivo guardado 20220816_sismos_.csv\n",
      "\n",
      "Ruta_log:  https://www.sismologia.cl/sismicidad/catalogo/2022/08/20220817.html\n",
      "Archivo guardado 20220817_sismos_.csv\n",
      "\n",
      "Ruta_log:  https://www.sismologia.cl/sismicidad/catalogo/2022/08/20220818.html\n",
      "Archivo guardado 20220818_sismos_.csv\n",
      "\n",
      "Ruta_log:  https://www.sismologia.cl/sismicidad/catalogo/2022/08/20220819.html\n",
      "Archivo guardado 20220819_sismos_.csv\n",
      "\n"
     ]
    }
   ],
   "source": [
    "#Se definen las fechas como texto\n",
    "fecha_inicio = \"08/01/2022\" #origen desde agosto 2022\n",
    "create_process_history(fecha_inicio, 5) #Segundo parámetro es el tiempo de sleep para cada día\n"
   ]
  },
  {
   "cell_type": "code",
   "execution_count": null,
   "id": "fecc3f43-63c5-42d5-9f00-379d2af2f6a1",
   "metadata": {},
   "outputs": [],
   "source": []
  }
 ],
 "metadata": {
  "kernelspec": {
   "display_name": "Python 3 (ipykernel)",
   "language": "python",
   "name": "python3"
  },
  "language_info": {
   "codemirror_mode": {
    "name": "ipython",
    "version": 3
   },
   "file_extension": ".py",
   "mimetype": "text/x-python",
   "name": "python",
   "nbconvert_exporter": "python",
   "pygments_lexer": "ipython3",
   "version": "3.9.12"
  },
  "vscode": {
   "interpreter": {
    "hash": "dcd95ec4a7a9c51ed25862ee2d0db24ce306fc4f4b3c233acaeabf505c072ea5"
   }
  }
 },
 "nbformat": 4,
 "nbformat_minor": 5
}
